{
 "cells": [
  {
   "cell_type": "markdown",
   "metadata": {},
   "source": [
    "# Tutorial 8: Train NicheTrans on human lymph node data"
   ]
  },
  {
   "cell_type": "code",
   "execution_count": 6,
   "metadata": {},
   "outputs": [],
   "source": [
    "import os, time, datetime, warnings\n",
    "\n",
    "import torch\n",
    "import torch.nn as nn\n",
    "from torch.optim import lr_scheduler\n",
    "\n",
    "from model.nicheTrans_img import *\n",
    "from datasets.data_manager_human_lymph_node import Lymph_node\n",
    "\n",
    "from utils.utils import *\n",
    "from utils.utils_training_human_lymph_node import train, test\n",
    "from utils.utils_dataloader import *\n",
    "\n",
    "warnings.filterwarnings(\"ignore\")"
   ]
  },
  {
   "cell_type": "markdown",
   "metadata": {},
   "source": [
    "## Initialize the args and fix seeds"
   ]
  },
  {
   "cell_type": "code",
   "execution_count": null,
   "metadata": {},
   "outputs": [
    {
     "name": "stdout",
     "output_type": "stream",
     "text": [
      "==========\n",
      "Args:Namespace(adata_path='/home/wzk/ST_data/2024_nmethods_SpatialGlue_Human_lymph_node_3slides/', dropout_rate=0.1, eval_step=1, gamma=0.1, gpu_devices='0', lr=0.0003, max_epoch=40, n_source=3000, noise_rate=0.5, optimizer='adam', save_dir='./log', seed=1, stepsize=20, test_batch=32, train_batch=32, weight_decay=0.0005, workers=4)\n",
      "==========\n"
     ]
    }
   ],
   "source": [
    "%run ./args/args_human_lymph_node.py\n",
    "args = args\n",
    "\n",
    "set_seed(args.seed)\n",
    "os.environ['CUDA_VISIBLE_DEVICES'] = args.gpu_devices\n",
    "\n",
    "print(\"==========\\nArgs:{}\\n==========\".format(args))"
   ]
  },
  {
   "cell_type": "markdown",
   "metadata": {},
   "source": [
    "## Initialize dataloaders and NicheTrans"
   ]
  },
  {
   "cell_type": "code",
   "execution_count": 8,
   "metadata": {},
   "outputs": [
    {
     "name": "stdout",
     "output_type": "stream",
     "text": [
      "------Calculating spatial graph...\n",
      "The graph contains 13638 edges, 3484 cells.\n",
      "3.9145 neighbors per cell on average.\n",
      "------Calculating spatial graph...\n",
      "The graph contains 27174 edges, 3484 cells.\n",
      "7.7997 neighbors per cell on average.\n",
      "------Calculating spatial graph...\n",
      "The graph contains 13138 edges, 3359 cells.\n",
      "3.9113 neighbors per cell on average.\n",
      "------Calculating spatial graph...\n",
      "The graph contains 26192 edges, 3359 cells.\n",
      "7.7976 neighbors per cell on average.\n",
      "=> SMA loaded\n",
      "Dataset statistics:\n",
      "  ------------------------------\n",
      "  subset   | # num | \n",
      "  ------------------------------\n",
      "  train    |  After filting  3484 spots\n",
      "  test     |  After filting  3359 spots\n",
      "  ------------------------------\n"
     ]
    }
   ],
   "source": [
    "# create the dataloaders\n",
    "dataset = Lymph_node(adata_path=args.adata_path, n_top_genes=args.n_source)\n",
    "trainloader, testloader = human_node_dataloader(args, dataset)\n",
    "\n",
    "# create the model\n",
    "source_dimension, target_dimension = dataset.rna_length, dataset.msi_length\n",
    "model = NicheTrans(source_length=source_dimension, target_length=target_dimension, noise_rate=args.noise_rate, dropout_rate=args.dropout_rate)\n",
    "model = nn.DataParallel(model).cuda()"
   ]
  },
  {
   "cell_type": "markdown",
   "metadata": {},
   "source": [
    "## Initialize loss function (criterion) and optimizer"
   ]
  },
  {
   "cell_type": "code",
   "execution_count": 9,
   "metadata": {},
   "outputs": [],
   "source": [
    "criterion = nn.MSELoss()\n",
    "\n",
    "if args.optimizer == 'adam':\n",
    "    optimizer = torch.optim.Adam(model.parameters(), lr=args.lr, weight_decay=args.weight_decay)\n",
    "elif args.optimizer == 'SGD':\n",
    "    optimizer = torch.optim.SGD(model.parameters(), lr=args.lr)\n",
    "else:\n",
    "    print('unexpected optimizer')\n",
    "\n",
    "if args.stepsize > 0:\n",
    "    scheduler = lr_scheduler.StepLR(optimizer, step_size=args.stepsize, gamma=args.gamma)"
   ]
  },
  {
   "cell_type": "markdown",
   "metadata": {},
   "source": [
    "## Model training and testing"
   ]
  },
  {
   "cell_type": "code",
   "execution_count": null,
   "metadata": {},
   "outputs": [],
   "source": [
    "start_time = time.time()\n",
    "\n",
    "for epoch in range(args.max_epoch):\n",
    "    last_epoch = epoch + 1 == args.max_epoch\n",
    "\n",
    "    print(\"==> Epoch {}/{}\".format(epoch+1, args.max_epoch))\n",
    "    \n",
    "    ################\n",
    "    train(args, model, criterion, optimizer, trainloader, dataset.target_panel)\n",
    "    if args.stepsize > 0: scheduler.step()\n",
    "    \n",
    "    if (epoch+1) % args.eval_step == 0:\n",
    "        pearson = test(args, model, testloader, dataset.target_panel, last_epoch)\n",
    "\n",
    "    if last_epoch==True:\n",
    "        torch.save(model.state_dict(), 'NicheTrans_human_lymph_node_last.pth')\n",
    "    ################\n",
    "\n",
    "elapsed = round(time.time() - start_time)\n",
    "elapsed = str(datetime.timedelta(seconds=elapsed))\n",
    "print(\"Finished. Total elapsed time (h:m:s): {}\".format(elapsed))"
   ]
  }
 ],
 "metadata": {
  "kernelspec": {
   "display_name": "pytorch_zk",
   "language": "python",
   "name": "python3"
  },
  "language_info": {
   "codemirror_mode": {
    "name": "ipython",
    "version": 3
   },
   "file_extension": ".py",
   "mimetype": "text/x-python",
   "name": "python",
   "nbconvert_exporter": "python",
   "pygments_lexer": "ipython3",
   "version": "3.8.19"
  }
 },
 "nbformat": 4,
 "nbformat_minor": 2
}
